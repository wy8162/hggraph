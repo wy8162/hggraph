{
 "cells": [
  {
   "cell_type": "code",
   "execution_count": 1,
   "metadata": {
    "collapsed": false
   },
   "outputs": [],
   "source": [
    "try:\n",
    "    from ipyparallel import bind_kernel\n",
    "except ImportError:\n",
    "    # technically possible, because parallel has higher pyzmq min-version\n",
    "    pass\n",
    "else:\n",
    "    bind_kernel()"
   ]
  },
  {
   "cell_type": "code",
   "execution_count": 3,
   "metadata": {
    "collapsed": false,
    "scrolled": true
   },
   "outputs": [],
   "source": [
    "import re"
   ]
  },
  {
   "cell_type": "code",
   "execution_count": 10,
   "metadata": {
    "collapsed": false
   },
   "outputs": [
    {
     "name": "stdout",
     "output_type": "stream",
     "text": [
      "15R3.x\n",
      "15R2.x_INTEGRATION\n",
      "15R2.x_RELEASE\n",
      "15R2.0_JPMC15R2-24\n"
     ]
    }
   ],
   "source": [
    "regexp = \"(\\w+_)(\\d+.+)(_[a-zA-Z]+)\"\n",
    "m = re.search(regexp, \"JPMC_15R3.x_BRANCH\")\n",
    "print(m.group(2))\n",
    "\n",
    "m = re.search(regexp, \"JPMC_15R2.x_INTEGRATION_BRANCH\")\n",
    "print(m.group(2))\n",
    "\n",
    "m = re.search(regexp, \"JPMC_15R2.x_RELEASE_BRANCH\")\n",
    "print(m.group(2))\n",
    "\n",
    "m = re.search(regexp, \"feature_JPMC_15R2.0_JPMC15R2-24_BRANCH\")\n",
    "print(m.group(2))\n"
   ]
  },
  {
   "cell_type": "code",
   "execution_count": 14,
   "metadata": {
    "collapsed": false
   },
   "outputs": [
    {
     "name": "stdout",
     "output_type": "stream",
     "text": [
      "15R2.1.1\n"
     ]
    }
   ],
   "source": [
    "regexp = \"(\\w+_)(\\d+.+)(_[a-zA-Z]+)\"\n",
    "m = re.search(regexp, \"PMC_15R2.1.1_TAG\")\n",
    "print(m.group(2))"
   ]
  },
  {
   "cell_type": "code",
   "execution_count": 27,
   "metadata": {
    "collapsed": false
   },
   "outputs": [],
   "source": [
    "import yaml\n",
    "with open(\"./hggraph.yaml\", 'r') as f:\n",
    "    hgCfg = yaml.load(f)"
   ]
  },
  {
   "cell_type": "code",
   "execution_count": 28,
   "metadata": {
    "collapsed": true
   },
   "outputs": [
    {
     "data": {
      "text/plain": [
       "{'branchNamePattern': '(\\\\w+_)(\\\\d+.+)(_[a-zA-Z]+)',\n",
       " 'colors': ['deepskyblue2',\n",
       "  'aquamarine',\n",
       "  'chartreuse',\n",
       "  'crimson',\n",
       "  'darkgreen',\n",
       "  'cyan',\n",
       "  'greenyellow',\n",
       "  'green3',\n",
       "  'brown1',\n",
       "  'green4',\n",
       "  'magenta3',\n",
       "  'magenta4',\n",
       "  'maroon',\n",
       "  'olivedrab3',\n",
       "  'olivedrab4',\n",
       "  'orange',\n",
       "  'yellow4',\n",
       "  'aqua'],\n",
       " 'csetFile': './repocsets.txt',\n",
       " 'csetFillColor': 'lightcyan',\n",
       " 'csetFontColor': 'black',\n",
       " 'csetShape': 'box',\n",
       " 'csetStyle': 'rounded,filled',\n",
       " 'graphviz': './graphviz.gv',\n",
       " 'hgquery': \"branch('.+15R3.*')\",\n",
       " 'mbFillColor': 'white',\n",
       " 'mbFontColor': 'black',\n",
       " 'mbShape': 'box',\n",
       " 'mbStyle': 'rounded,filled',\n",
       " 'rank': False,\n",
       " 'repo': 'please_replace_repo',\n",
       " 'retrieveChangeSets': True,\n",
       " 'subgraphCluster': False,\n",
       " 'tagFillColor': 'limegreen',\n",
       " 'tagFontColor': 'white',\n",
       " 'tagNamePattern': '(\\\\w+_)(\\\\d+.+)(_[a-zA-Z]+)',\n",
       " 'tailFillColor': 'gray',\n",
       " 'tailFontColor': 'black',\n",
       " 'tailShape': 'box',\n",
       " 'tailStyle': 'rounded,filled',\n",
       " 'tipFillColor': 'gray',\n",
       " 'tipFontColor': 'black',\n",
       " 'tipShape': 'diamond',\n",
       " 'tipStyle': 'rounded,filled'}"
      ]
     },
     "execution_count": 28,
     "metadata": {},
     "output_type": "execute_result"
    }
   ],
   "source": [
    "hgCfg"
   ]
  },
  {
   "cell_type": "code",
   "execution_count": 26,
   "metadata": {
    "collapsed": false
   },
   "outputs": [
    {
     "data": {
      "text/plain": [
       "CSet(rev='27365', user='hudsonuser <hudsonuser@dovetailsystems.com>', branch='JPMC_15R2.x_BRANCH', tags='', date='2015-03-10 10:56 -0400', p2node='0000000000000000000000000000000000000000', node='ad619857605136d2c294e9b55017cdd137d1cd76', message='Creating JPMC_15R2.x_BRANCH for IITS-613164 from JPMC_15R1.x_RELEASE_BRANCH at JPMC_15R1.7_TAG for ant, environment, payments, framework, flowcontrol, and genericCSMFlowControl, and from JPMC repositories.', children='27399:b2bf50a4296e', p1node='a301196d19a18ca330895bd4a5c8f70eb27392b0', p2rev='-1', p1rev='27361')"
      ]
     },
     "execution_count": 26,
     "metadata": {},
     "output_type": "execute_result"
    }
   ],
   "source": [
    "import re\n",
    "import yaml\n",
    "import collections\n",
    "import datetime\n",
    "import bisect\n",
    "import os\n",
    "import glob\n",
    "import subprocess\n",
    "from stat import *\n",
    "import json\n",
    "from collections import namedtuple\n",
    "from itertools import groupby\n",
    "\n",
    "s = '{\"branch\":\"JPMC_15R2.x_BRANCH\",\"children\":\"27399:b2bf50a4296e\",\"user\":\"hudsonuser <hudsonuser@dovetailsystems.com>\",\"date\":\"2015-03-10 10:56 -0400\",\"message\":\"Creating JPMC_15R2.x_BRANCH for IITS-613164 from JPMC_15R1.x_RELEASE_BRANCH at JPMC_15R1.7_TAG for ant, environment, payments, framework, flowcontrol, and genericCSMFlowControl, and from JPMC repositories.\",\"tags\":\"\",\"rev\":\"27365\", \"node\":\"ad619857605136d2c294e9b55017cdd137d1cd76\", \"p1node\":\"a301196d19a18ca330895bd4a5c8f70eb27392b0\", \"p1rev\":\"27361\", \"p2node\":\"0000000000000000000000000000000000000000\", \"p2rev\":\"-1\"}'\n",
    "\n",
    "x = json.loads(s, object_hook=lambda d: namedtuple('CSet', d.keys())(*d.values()))\n",
    "x"
   ]
  },
  {
   "cell_type": "code",
   "execution_count": 30,
   "metadata": {
    "collapsed": false
   },
   "outputs": [],
   "source": [
    "with open(\"./repocsets.txt\", 'r') as f:\n",
    "    data = f.read()\n",
    "\n",
    "lines = data.strip().split(\"\\n\")"
   ]
  },
  {
   "cell_type": "code",
   "execution_count": 31,
   "metadata": {
    "collapsed": false
   },
   "outputs": [
    {
     "data": {
      "text/plain": [
       "550"
      ]
     },
     "execution_count": 31,
     "metadata": {},
     "output_type": "execute_result"
    }
   ],
   "source": [
    "s=\"\"\n",
    "\n",
    "for l in lines:\n",
    "    ll = l.split\"\""
   ]
  }
 ],
 "metadata": {
  "kernelspec": {
   "display_name": "Python 3",
   "language": "python",
   "name": "python3"
  },
  "language_info": {
   "codemirror_mode": {
    "name": "ipython",
    "version": 3
   },
   "file_extension": ".py",
   "mimetype": "text/x-python",
   "name": "python",
   "nbconvert_exporter": "python",
   "pygments_lexer": "ipython3",
   "version": "3.4.3"
  }
 },
 "nbformat": 4,
 "nbformat_minor": 0
}
