{
 "cells": [
  {
   "cell_type": "code",
   "execution_count": 3,
   "metadata": {
    "collapsed": false,
    "scrolled": true
   },
   "outputs": [
    {
     "name": "stdout",
     "output_type": "stream",
     "text": [
      "A A\n",
      "B B\n"
     ]
    }
   ],
   "source": [
    "class A(object):\n",
    "    @staticmethod\n",
    "    def xxx(hello):\n",
    "        print(hello + \" A\")\n",
    "        \n",
    "class B(object):\n",
    "    @staticmethod\n",
    "    def xxx(hello):\n",
    "        print(hello + \" B\")\n",
    "        \n",
    "A.xxx(\"A\")\n",
    "B.xxx(\"B\")"
   ]
  },
  {
   "cell_type": "code",
   "execution_count": 6,
   "metadata": {
    "collapsed": false
   },
   "outputs": [
    {
     "name": "stdout",
     "output_type": "stream",
     "text": [
      "a A\n",
      "b B\n"
     ]
    }
   ],
   "source": [
    "x = A.xxx\n",
    "x(\"a\")\n",
    "\n",
    "x = B.xxx\n",
    "x(\"b\")"
   ]
  },
  {
   "cell_type": "code",
   "execution_count": 14,
   "metadata": {
    "collapsed": false
   },
   "outputs": [
    {
     "name": "stdout",
     "output_type": "stream",
     "text": [
      "7w\n"
     ]
    }
   ],
   "source": [
    "import re\n",
    "\n",
    "class Counter:\n",
    "    def __init__(self, s):\n",
    "        self.lines = s.split(\" \")\n",
    "        self.queryStr = \"\\d+\\w\"\n",
    "        self.current = 0\n",
    "\n",
    "    def __iter__(self):\n",
    "        return self\n",
    "\n",
    "    def __next__(self):\n",
    "        if self.current >= len(self.lines):\n",
    "            raise StopIteration\n",
    "        else:\n",
    "            self.current += 1\n",
    "            while self.current >= 1 and self.current <= len(self.lines):\n",
    "                m = re.search(self.queryStr, self.lines[self.current - 1])\n",
    "                if m:\n",
    "                    return self.lines[self.current - 1]\n",
    "                self.current += 1\n",
    "            \n",
    "            raise StopIteration\n",
    "\n",
    "\n",
    "for c in Counter(\"1 2 3 4 5 6 7w 8 9\"):\n",
    "    print(c)"
   ]
  },
  {
   "cell_type": "code",
   "execution_count": null,
   "metadata": {
    "collapsed": true
   },
   "outputs": [],
   "source": [
    "with open(\"./hggraph.yaml\", 'r') as f:\n",
    "    hgProps = yaml.load(f)\n",
    "\n",
    "hgCmd = CSetSource(hgProps[\"csetFile\"], hgProps[\"hgquery\"])\n",
    "\n",
    "results = hgCmd.run()\n",
    "\n",
    "hg = HgGraph(hgCmd)\n",
    "hg.buildChangeSets()"
   ]
  }
 ],
 "metadata": {
  "kernelspec": {
   "display_name": "Python 3",
   "language": "python",
   "name": "python3"
  },
  "language_info": {
   "codemirror_mode": {
    "name": "ipython",
    "version": 3
   },
   "file_extension": ".py",
   "mimetype": "text/x-python",
   "name": "python",
   "nbconvert_exporter": "python",
   "pygments_lexer": "ipython3",
   "version": "3.4.3"
  }
 },
 "nbformat": 4,
 "nbformat_minor": 0
}
